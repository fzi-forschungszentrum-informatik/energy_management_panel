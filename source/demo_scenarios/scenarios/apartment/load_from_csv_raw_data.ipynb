{
 "cells": [
  {
   "cell_type": "markdown",
   "metadata": {},
   "source": [
    "CSV Files have been loaded from here: \n",
    "* https://dataverse.harvard.edu/api/access/datafile/2699423?format=original&gbrecs=true\n",
    "* https://dataverse.harvard.edu/api/access/datafile/2699420?format=original&gbrecs=true\n",
    "* https://dataverse.harvard.edu/api/access/datafile/2741426?format=original&gbrecs=true"
   ]
  },
  {
   "cell_type": "code",
   "execution_count": 19,
   "metadata": {},
   "outputs": [],
   "source": [
    "import pickle\n",
    "from datetime import datetime\n",
    "\n",
    "import pandas as pd"
   ]
  },
  {
   "cell_type": "code",
   "execution_count": 20,
   "metadata": {},
   "outputs": [],
   "source": [
    "# Allows quick parsing of timestamps to datetime.\n",
    "# Inspired from https://stackoverflow.com/questions/34122395/reading-a-csv-with-a-timestamp-column-with-pandas\n",
    "def dateparse (time_in_secs):    \n",
    "    return datetime.fromtimestamp(float(time_in_secs))"
   ]
  },
  {
   "cell_type": "markdown",
   "metadata": {},
   "source": [
    "### Dryer"
   ]
  },
  {
   "cell_type": "code",
   "execution_count": 21,
   "metadata": {},
   "outputs": [
    {
     "data": {
      "text/html": [
       "<div>\n",
       "<style scoped>\n",
       "    .dataframe tbody tr th:only-of-type {\n",
       "        vertical-align: middle;\n",
       "    }\n",
       "\n",
       "    .dataframe tbody tr th {\n",
       "        vertical-align: top;\n",
       "    }\n",
       "\n",
       "    .dataframe thead th {\n",
       "        text-align: right;\n",
       "    }\n",
       "</style>\n",
       "<table border=\"1\" class=\"dataframe\">\n",
       "  <thead>\n",
       "    <tr style=\"text-align: right;\">\n",
       "      <th></th>\n",
       "      <th>V</th>\n",
       "      <th>I</th>\n",
       "      <th>f</th>\n",
       "      <th>DPF</th>\n",
       "      <th>APF</th>\n",
       "      <th>P</th>\n",
       "      <th>Pt</th>\n",
       "      <th>Q</th>\n",
       "      <th>Qt</th>\n",
       "      <th>S</th>\n",
       "      <th>St</th>\n",
       "    </tr>\n",
       "    <tr>\n",
       "      <th>unix_ts</th>\n",
       "      <th></th>\n",
       "      <th></th>\n",
       "      <th></th>\n",
       "      <th></th>\n",
       "      <th></th>\n",
       "      <th></th>\n",
       "      <th></th>\n",
       "      <th></th>\n",
       "      <th></th>\n",
       "      <th></th>\n",
       "      <th></th>\n",
       "    </tr>\n",
       "  </thead>\n",
       "  <tbody>\n",
       "    <tr>\n",
       "      <th>2012-04-01 09:00:00</th>\n",
       "      <td>238.0</td>\n",
       "      <td>0.0</td>\n",
       "      <td>60.0</td>\n",
       "      <td>1.0</td>\n",
       "      <td>0.00</td>\n",
       "      <td>0</td>\n",
       "      <td>39791</td>\n",
       "      <td>0</td>\n",
       "      <td>5877</td>\n",
       "      <td>0</td>\n",
       "      <td>66147</td>\n",
       "    </tr>\n",
       "    <tr>\n",
       "      <th>2012-04-01 09:01:00</th>\n",
       "      <td>238.0</td>\n",
       "      <td>0.0</td>\n",
       "      <td>60.0</td>\n",
       "      <td>1.0</td>\n",
       "      <td>0.00</td>\n",
       "      <td>0</td>\n",
       "      <td>39791</td>\n",
       "      <td>0</td>\n",
       "      <td>5877</td>\n",
       "      <td>0</td>\n",
       "      <td>66148</td>\n",
       "    </tr>\n",
       "    <tr>\n",
       "      <th>2012-04-01 09:02:00</th>\n",
       "      <td>237.7</td>\n",
       "      <td>0.0</td>\n",
       "      <td>60.0</td>\n",
       "      <td>1.0</td>\n",
       "      <td>0.04</td>\n",
       "      <td>0</td>\n",
       "      <td>39791</td>\n",
       "      <td>0</td>\n",
       "      <td>5877</td>\n",
       "      <td>0</td>\n",
       "      <td>66148</td>\n",
       "    </tr>\n",
       "    <tr>\n",
       "      <th>2012-04-01 09:03:00</th>\n",
       "      <td>238.0</td>\n",
       "      <td>0.0</td>\n",
       "      <td>60.0</td>\n",
       "      <td>1.0</td>\n",
       "      <td>0.04</td>\n",
       "      <td>0</td>\n",
       "      <td>39791</td>\n",
       "      <td>0</td>\n",
       "      <td>5877</td>\n",
       "      <td>0</td>\n",
       "      <td>66148</td>\n",
       "    </tr>\n",
       "    <tr>\n",
       "      <th>2012-04-01 09:04:00</th>\n",
       "      <td>237.8</td>\n",
       "      <td>0.0</td>\n",
       "      <td>60.0</td>\n",
       "      <td>1.0</td>\n",
       "      <td>0.00</td>\n",
       "      <td>0</td>\n",
       "      <td>39791</td>\n",
       "      <td>0</td>\n",
       "      <td>5877</td>\n",
       "      <td>0</td>\n",
       "      <td>66148</td>\n",
       "    </tr>\n",
       "  </tbody>\n",
       "</table>\n",
       "</div>"
      ],
      "text/plain": [
       "                         V    I     f  DPF   APF  P     Pt  Q    Qt  S     St\n",
       "unix_ts                                                                      \n",
       "2012-04-01 09:00:00  238.0  0.0  60.0  1.0  0.00  0  39791  0  5877  0  66147\n",
       "2012-04-01 09:01:00  238.0  0.0  60.0  1.0  0.00  0  39791  0  5877  0  66148\n",
       "2012-04-01 09:02:00  237.7  0.0  60.0  1.0  0.04  0  39791  0  5877  0  66148\n",
       "2012-04-01 09:03:00  238.0  0.0  60.0  1.0  0.04  0  39791  0  5877  0  66148\n",
       "2012-04-01 09:04:00  237.8  0.0  60.0  1.0  0.00  0  39791  0  5877  0  66148"
      ]
     },
     "execution_count": 21,
     "metadata": {},
     "output_type": "execute_result"
    }
   ],
   "source": [
    "df = pd.read_csv(\"Electricity_CDE.csv\", parse_dates=True, date_parser=dateparse, index_col=0)\n",
    "df.head()"
   ]
  },
  {
   "cell_type": "markdown",
   "metadata": {},
   "source": [
    "We are only interested in active power, and found one dryer run in the first day."
   ]
  },
  {
   "cell_type": "code",
   "execution_count": 22,
   "metadata": {},
   "outputs": [
    {
     "data": {
      "text/plain": [
       "<AxesSubplot:xlabel='unix_ts'>"
      ]
     },
     "execution_count": 22,
     "metadata": {},
     "output_type": "execute_result"
    },
    {
     "data": {
      "image/png": "[encoded data removed]",
      "text/plain": [
       "<Figure size 432x288 with 1 Axes>"
      ]
     },
     "metadata": {
      "needs_background": "light"
     },
     "output_type": "display_data"
    }
   ],
   "source": [
    "df[\"P\"][:24*60].plot()"
   ]
  },
  {
   "cell_type": "markdown",
   "metadata": {},
   "source": [
    "Lets extract the power consumption profile of the dryer."
   ]
  },
  {
   "cell_type": "code",
   "execution_count": 23,
   "metadata": {},
   "outputs": [
    {
     "data": {
      "text/plain": [
       "<AxesSubplot:xlabel='unix_ts'>"
      ]
     },
     "execution_count": 23,
     "metadata": {},
     "output_type": "execute_result"
    },
    {
     "data": {
      "image/png": "[encoded data removed]",
      "text/plain": [
       "<Figure size 432x288 with 1 Axes>"
      ]
     },
     "metadata": {
      "needs_background": "light"
     },
     "output_type": "display_data"
    }
   ],
   "source": [
    "df_day = df[\"P\"][:24*60]\n",
    "machine_active = df_day > 0\n",
    "df_day[machine_active][:-1].plot()  # The last value is an outlier"
   ]
  },
  {
   "cell_type": "code",
   "execution_count": 24,
   "metadata": {},
   "outputs": [
    {
     "data": {
      "text/plain": [
       "[6,\n",
       " 6,\n",
       " 4730,\n",
       " 4616,\n",
       " 4626,\n",
       " 4615,\n",
       " 4612,\n",
       " 4628,\n",
       " 4637,\n",
       " 4605,\n",
       " 4586,\n",
       " 4608,\n",
       " 4589,\n",
       " 4586,\n",
       " 4609,\n",
       " 4585,\n",
       " 4591,\n",
       " 4557,\n",
       " 4575,\n",
       " 4583,\n",
       " 4567,\n",
       " 4564,\n",
       " 4588,\n",
       " 4569,\n",
       " 4565,\n",
       " 4567,\n",
       " 4552,\n",
       " 4561,\n",
       " 4541,\n",
       " 4557,\n",
       " 4553,\n",
       " 4558,\n",
       " 4544,\n",
       " 4532,\n",
       " 4518,\n",
       " 250,\n",
       " 245,\n",
       " 4605,\n",
       " 247,\n",
       " 246,\n",
       " 243,\n",
       " 247,\n",
       " 257,\n",
       " 254,\n",
       " 258,\n",
       " 260,\n",
       " 252,\n",
       " 259]"
      ]
     },
     "execution_count": 24,
     "metadata": {},
     "output_type": "execute_result"
    }
   ],
   "source": [
    "dryer_profile = df_day[machine_active][:-1].tolist()\n",
    "dryer_profile"
   ]
  },
  {
   "cell_type": "markdown",
   "metadata": {},
   "source": [
    "### Clothes washing machine\n",
    "Similar approach as above"
   ]
  },
  {
   "cell_type": "code",
   "execution_count": 25,
   "metadata": {},
   "outputs": [
    {
     "data": {
      "text/html": [
       "<div>\n",
       "<style scoped>\n",
       "    .dataframe tbody tr th:only-of-type {\n",
       "        vertical-align: middle;\n",
       "    }\n",
       "\n",
       "    .dataframe tbody tr th {\n",
       "        vertical-align: top;\n",
       "    }\n",
       "\n",
       "    .dataframe thead th {\n",
       "        text-align: right;\n",
       "    }\n",
       "</style>\n",
       "<table border=\"1\" class=\"dataframe\">\n",
       "  <thead>\n",
       "    <tr style=\"text-align: right;\">\n",
       "      <th></th>\n",
       "      <th>V</th>\n",
       "      <th>I</th>\n",
       "      <th>f</th>\n",
       "      <th>DPF</th>\n",
       "      <th>APF</th>\n",
       "      <th>P</th>\n",
       "      <th>Pt</th>\n",
       "      <th>Q</th>\n",
       "      <th>Qt</th>\n",
       "      <th>S</th>\n",
       "      <th>St</th>\n",
       "    </tr>\n",
       "    <tr>\n",
       "      <th>unix_ts</th>\n",
       "      <th></th>\n",
       "      <th></th>\n",
       "      <th></th>\n",
       "      <th></th>\n",
       "      <th></th>\n",
       "      <th></th>\n",
       "      <th></th>\n",
       "      <th></th>\n",
       "      <th></th>\n",
       "      <th></th>\n",
       "      <th></th>\n",
       "    </tr>\n",
       "  </thead>\n",
       "  <tbody>\n",
       "    <tr>\n",
       "      <th>2012-04-01 09:00:00</th>\n",
       "      <td>118.5</td>\n",
       "      <td>0.0</td>\n",
       "      <td>60.00</td>\n",
       "      <td>1.0</td>\n",
       "      <td>1.0</td>\n",
       "      <td>0</td>\n",
       "      <td>3025</td>\n",
       "      <td>0</td>\n",
       "      <td>705</td>\n",
       "      <td>0</td>\n",
       "      <td>4724</td>\n",
       "    </tr>\n",
       "    <tr>\n",
       "      <th>2012-04-01 09:01:00</th>\n",
       "      <td>118.6</td>\n",
       "      <td>0.0</td>\n",
       "      <td>60.06</td>\n",
       "      <td>1.0</td>\n",
       "      <td>1.0</td>\n",
       "      <td>0</td>\n",
       "      <td>3025</td>\n",
       "      <td>0</td>\n",
       "      <td>705</td>\n",
       "      <td>0</td>\n",
       "      <td>4724</td>\n",
       "    </tr>\n",
       "    <tr>\n",
       "      <th>2012-04-01 09:02:00</th>\n",
       "      <td>118.5</td>\n",
       "      <td>0.0</td>\n",
       "      <td>60.00</td>\n",
       "      <td>1.0</td>\n",
       "      <td>1.0</td>\n",
       "      <td>0</td>\n",
       "      <td>3025</td>\n",
       "      <td>0</td>\n",
       "      <td>705</td>\n",
       "      <td>0</td>\n",
       "      <td>4724</td>\n",
       "    </tr>\n",
       "    <tr>\n",
       "      <th>2012-04-01 09:03:00</th>\n",
       "      <td>118.5</td>\n",
       "      <td>0.0</td>\n",
       "      <td>60.00</td>\n",
       "      <td>1.0</td>\n",
       "      <td>1.0</td>\n",
       "      <td>0</td>\n",
       "      <td>3025</td>\n",
       "      <td>0</td>\n",
       "      <td>705</td>\n",
       "      <td>0</td>\n",
       "      <td>4724</td>\n",
       "    </tr>\n",
       "    <tr>\n",
       "      <th>2012-04-01 09:04:00</th>\n",
       "      <td>118.6</td>\n",
       "      <td>0.0</td>\n",
       "      <td>60.00</td>\n",
       "      <td>1.0</td>\n",
       "      <td>1.0</td>\n",
       "      <td>0</td>\n",
       "      <td>3025</td>\n",
       "      <td>0</td>\n",
       "      <td>705</td>\n",
       "      <td>0</td>\n",
       "      <td>4724</td>\n",
       "    </tr>\n",
       "  </tbody>\n",
       "</table>\n",
       "</div>"
      ],
      "text/plain": [
       "                         V    I      f  DPF  APF  P    Pt  Q   Qt  S    St\n",
       "unix_ts                                                                   \n",
       "2012-04-01 09:00:00  118.5  0.0  60.00  1.0  1.0  0  3025  0  705  0  4724\n",
       "2012-04-01 09:01:00  118.6  0.0  60.06  1.0  1.0  0  3025  0  705  0  4724\n",
       "2012-04-01 09:02:00  118.5  0.0  60.00  1.0  1.0  0  3025  0  705  0  4724\n",
       "2012-04-01 09:03:00  118.5  0.0  60.00  1.0  1.0  0  3025  0  705  0  4724\n",
       "2012-04-01 09:04:00  118.6  0.0  60.00  1.0  1.0  0  3025  0  705  0  4724"
      ]
     },
     "execution_count": 25,
     "metadata": {},
     "output_type": "execute_result"
    }
   ],
   "source": [
    "df = pd.read_csv(\"Electricity_CWE.csv\", parse_dates=True, date_parser=dateparse, index_col=0)\n",
    "df.head()"
   ]
  },
  {
   "cell_type": "code",
   "execution_count": 26,
   "metadata": {},
   "outputs": [
    {
     "data": {
      "text/plain": [
       "<AxesSubplot:xlabel='unix_ts'>"
      ]
     },
     "execution_count": 26,
     "metadata": {},
     "output_type": "execute_result"
    },
    {
     "data": {
      "image/png": "[encoded data removed]",
      "text/plain": [
       "<Figure size 432x288 with 1 Axes>"
      ]
     },
     "metadata": {
      "needs_background": "light"
     },
     "output_type": "display_data"
    }
   ],
   "source": [
    "df[\"P\"][:24*60].plot()"
   ]
  },
  {
   "cell_type": "code",
   "execution_count": 27,
   "metadata": {},
   "outputs": [
    {
     "data": {
      "text/plain": [
       "<AxesSubplot:xlabel='unix_ts'>"
      ]
     },
     "execution_count": 27,
     "metadata": {},
     "output_type": "execute_result"
    },
    {
     "data": {
      "image/png": "[encoded data removed]",
      "text/plain": [
       "<Figure size 432x288 with 1 Axes>"
      ]
     },
     "metadata": {
      "needs_background": "light"
     },
     "output_type": "display_data"
    }
   ],
   "source": [
    "df_day = df[\"P\"][:24*60]\n",
    "machine_active = df_day > 0\n",
    "df_day[machine_active].plot()"
   ]
  },
  {
   "cell_type": "code",
   "execution_count": 28,
   "metadata": {},
   "outputs": [
    {
     "data": {
      "text/plain": [
       "[7,\n",
       " 105,\n",
       " 7,\n",
       " 178,\n",
       " 195,\n",
       " 191,\n",
       " 172,\n",
       " 175,\n",
       " 185,\n",
       " 166,\n",
       " 189,\n",
       " 175,\n",
       " 186,\n",
       " 151,\n",
       " 166,\n",
       " 163,\n",
       " 182,\n",
       " 182,\n",
       " 175,\n",
       " 210,\n",
       " 117,\n",
       " 36,\n",
       " 119,\n",
       " 88,\n",
       " 445,\n",
       " 12,\n",
       " 118,\n",
       " 159,\n",
       " 164,\n",
       " 153,\n",
       " 161,\n",
       " 860,\n",
       " 152,\n",
       " 36,\n",
       " 132,\n",
       " 11,\n",
       " 60,\n",
       " 172,\n",
       " 178,\n",
       " 73,\n",
       " 8,\n",
       " 127,\n",
       " 464,\n",
       " 12,\n",
       " 11,\n",
       " 150,\n",
       " 179,\n",
       " 176,\n",
       " 172,\n",
       " 37,\n",
       " 95,\n",
       " 105,\n",
       " 309,\n",
       " 17,\n",
       " 17,\n",
       " 182,\n",
       " 172,\n",
       " 183,\n",
       " 117,\n",
       " 176,\n",
       " 148,\n",
       " 103,\n",
       " 37,\n",
       " 102,\n",
       " 183,\n",
       " 186,\n",
       " 1002,\n",
       " 566,\n",
       " 542,\n",
       " 584,\n",
       " 554,\n",
       " 571,\n",
       " 552,\n",
       " 547,\n",
       " 52,\n",
       " 6]"
      ]
     },
     "execution_count": 28,
     "metadata": {},
     "output_type": "execute_result"
    }
   ],
   "source": [
    "washing_machine_profile = df_day[machine_active].tolist()\n",
    "washing_machine_profile"
   ]
  },
  {
   "cell_type": "markdown",
   "metadata": {},
   "source": [
    "### Dishwasher machine\n",
    "Similar approach as above"
   ]
  },
  {
   "cell_type": "code",
   "execution_count": 29,
   "metadata": {},
   "outputs": [
    {
     "data": {
      "text/html": [
       "<div>\n",
       "<style scoped>\n",
       "    .dataframe tbody tr th:only-of-type {\n",
       "        vertical-align: middle;\n",
       "    }\n",
       "\n",
       "    .dataframe tbody tr th {\n",
       "        vertical-align: top;\n",
       "    }\n",
       "\n",
       "    .dataframe thead th {\n",
       "        text-align: right;\n",
       "    }\n",
       "</style>\n",
       "<table border=\"1\" class=\"dataframe\">\n",
       "  <thead>\n",
       "    <tr style=\"text-align: right;\">\n",
       "      <th></th>\n",
       "      <th>V</th>\n",
       "      <th>I</th>\n",
       "      <th>f</th>\n",
       "      <th>DPF</th>\n",
       "      <th>APF</th>\n",
       "      <th>P</th>\n",
       "      <th>Pt</th>\n",
       "      <th>Q</th>\n",
       "      <th>Qt</th>\n",
       "      <th>S</th>\n",
       "      <th>St</th>\n",
       "    </tr>\n",
       "    <tr>\n",
       "      <th>unix_ts</th>\n",
       "      <th></th>\n",
       "      <th></th>\n",
       "      <th></th>\n",
       "      <th></th>\n",
       "      <th></th>\n",
       "      <th></th>\n",
       "      <th></th>\n",
       "      <th></th>\n",
       "      <th></th>\n",
       "      <th></th>\n",
       "      <th></th>\n",
       "    </tr>\n",
       "  </thead>\n",
       "  <tbody>\n",
       "    <tr>\n",
       "      <th>2012-04-01 09:00:00</th>\n",
       "      <td>118.7</td>\n",
       "      <td>0.0</td>\n",
       "      <td>60.0</td>\n",
       "      <td>1.0</td>\n",
       "      <td>1.0</td>\n",
       "      <td>0</td>\n",
       "      <td>1075</td>\n",
       "      <td>0</td>\n",
       "      <td>95</td>\n",
       "      <td>0</td>\n",
       "      <td>1106</td>\n",
       "    </tr>\n",
       "    <tr>\n",
       "      <th>2012-04-01 09:01:00</th>\n",
       "      <td>119.2</td>\n",
       "      <td>0.0</td>\n",
       "      <td>60.0</td>\n",
       "      <td>1.0</td>\n",
       "      <td>1.0</td>\n",
       "      <td>0</td>\n",
       "      <td>1075</td>\n",
       "      <td>0</td>\n",
       "      <td>95</td>\n",
       "      <td>0</td>\n",
       "      <td>1106</td>\n",
       "    </tr>\n",
       "    <tr>\n",
       "      <th>2012-04-01 09:02:00</th>\n",
       "      <td>118.9</td>\n",
       "      <td>0.0</td>\n",
       "      <td>60.0</td>\n",
       "      <td>1.0</td>\n",
       "      <td>1.0</td>\n",
       "      <td>0</td>\n",
       "      <td>1075</td>\n",
       "      <td>0</td>\n",
       "      <td>95</td>\n",
       "      <td>0</td>\n",
       "      <td>1106</td>\n",
       "    </tr>\n",
       "    <tr>\n",
       "      <th>2012-04-01 09:03:00</th>\n",
       "      <td>119.0</td>\n",
       "      <td>0.0</td>\n",
       "      <td>60.0</td>\n",
       "      <td>1.0</td>\n",
       "      <td>1.0</td>\n",
       "      <td>0</td>\n",
       "      <td>1075</td>\n",
       "      <td>0</td>\n",
       "      <td>95</td>\n",
       "      <td>0</td>\n",
       "      <td>1106</td>\n",
       "    </tr>\n",
       "    <tr>\n",
       "      <th>2012-04-01 09:04:00</th>\n",
       "      <td>118.7</td>\n",
       "      <td>0.0</td>\n",
       "      <td>60.0</td>\n",
       "      <td>1.0</td>\n",
       "      <td>1.0</td>\n",
       "      <td>0</td>\n",
       "      <td>1075</td>\n",
       "      <td>0</td>\n",
       "      <td>95</td>\n",
       "      <td>0</td>\n",
       "      <td>1106</td>\n",
       "    </tr>\n",
       "  </tbody>\n",
       "</table>\n",
       "</div>"
      ],
      "text/plain": [
       "                         V    I     f  DPF  APF  P    Pt  Q  Qt  S    St\n",
       "unix_ts                                                                 \n",
       "2012-04-01 09:00:00  118.7  0.0  60.0  1.0  1.0  0  1075  0  95  0  1106\n",
       "2012-04-01 09:01:00  119.2  0.0  60.0  1.0  1.0  0  1075  0  95  0  1106\n",
       "2012-04-01 09:02:00  118.9  0.0  60.0  1.0  1.0  0  1075  0  95  0  1106\n",
       "2012-04-01 09:03:00  119.0  0.0  60.0  1.0  1.0  0  1075  0  95  0  1106\n",
       "2012-04-01 09:04:00  118.7  0.0  60.0  1.0  1.0  0  1075  0  95  0  1106"
      ]
     },
     "execution_count": 29,
     "metadata": {},
     "output_type": "execute_result"
    }
   ],
   "source": [
    "df = pd.read_csv(\"Electricity_DWE.csv\", parse_dates=True, date_parser=dateparse, index_col=0)\n",
    "df.head()"
   ]
  },
  {
   "cell_type": "code",
   "execution_count": 30,
   "metadata": {},
   "outputs": [
    {
     "data": {
      "text/plain": [
       "<AxesSubplot:xlabel='unix_ts'>"
      ]
     },
     "execution_count": 30,
     "metadata": {},
     "output_type": "execute_result"
    },
    {
     "data": {
      "image/png": "[encoded data removed]",
      "text/plain": [
       "<Figure size 432x288 with 1 Axes>"
      ]
     },
     "metadata": {
      "needs_background": "light"
     },
     "output_type": "display_data"
    }
   ],
   "source": [
    "df[\"P\"][:24*60].plot()"
   ]
  },
  {
   "cell_type": "code",
   "execution_count": 31,
   "metadata": {},
   "outputs": [
    {
     "data": {
      "text/plain": [
       "<AxesSubplot:xlabel='unix_ts'>"
      ]
     },
     "execution_count": 31,
     "metadata": {},
     "output_type": "execute_result"
    },
    {
     "data": {
      "image/png": "[encoded data removed]",
      "text/plain": [
       "<Figure size 432x288 with 1 Axes>"
      ]
     },
     "metadata": {
      "needs_background": "light"
     },
     "output_type": "display_data"
    }
   ],
   "source": [
    "df_day = df[\"P\"][:24*60]\n",
    "machine_active = df_day > 0\n",
    "df_day[machine_active].plot()"
   ]
  },
  {
   "cell_type": "code",
   "execution_count": 32,
   "metadata": {},
   "outputs": [
    {
     "data": {
      "text/plain": [
       "[7,\n",
       " 7,\n",
       " 777,\n",
       " 759,\n",
       " 773,\n",
       " 759,\n",
       " 13,\n",
       " 13,\n",
       " 7,\n",
       " 7,\n",
       " 786,\n",
       " 786,\n",
       " 780,\n",
       " 769,\n",
       " 24,\n",
       " 13,\n",
       " 6,\n",
       " 6,\n",
       " 764,\n",
       " 773,\n",
       " 771,\n",
       " 771,\n",
       " 25,\n",
       " 13,\n",
       " 7,\n",
       " 7,\n",
       " 145,\n",
       " 135,\n",
       " 137,\n",
       " 145,\n",
       " 16,\n",
       " 14,\n",
       " 7,\n",
       " 6,\n",
       " 144,\n",
       " 152,\n",
       " 136,\n",
       " 144,\n",
       " 13,\n",
       " 13,\n",
       " 6,\n",
       " 7,\n",
       " 155,\n",
       " 154,\n",
       " 761,\n",
       " 762,\n",
       " 759,\n",
       " 758,\n",
       " 766,\n",
       " 775,\n",
       " 773,\n",
       " 770,\n",
       " 780,\n",
       " 777,\n",
       " 776,\n",
       " 774,\n",
       " 770,\n",
       " 768,\n",
       " 768,\n",
       " 764,\n",
       " 764,\n",
       " 3,\n",
       " 14,\n",
       " 3,\n",
       " 7,\n",
       " 130,\n",
       " 127,\n",
       " 122,\n",
       " 119,\n",
       " 2,\n",
       " 14,\n",
       " 3,\n",
       " 7,\n",
       " 148,\n",
       " 127,\n",
       " 750,\n",
       " 745,\n",
       " 740,\n",
       " 740,\n",
       " 740,\n",
       " 738,\n",
       " 740,\n",
       " 733,\n",
       " 732,\n",
       " 734,\n",
       " 729,\n",
       " 739,\n",
       " 734,\n",
       " 729,\n",
       " 727,\n",
       " 728,\n",
       " 727,\n",
       " 723,\n",
       " 729,\n",
       " 726,\n",
       " 726,\n",
       " 729,\n",
       " 730,\n",
       " 723,\n",
       " 727,\n",
       " 727,\n",
       " 726,\n",
       " 731,\n",
       " 732,\n",
       " 727,\n",
       " 725,\n",
       " 731,\n",
       " 24,\n",
       " 13,\n",
       " 2,\n",
       " 2,\n",
       " 2,\n",
       " 2,\n",
       " 2,\n",
       " 2,\n",
       " 2,\n",
       " 2,\n",
       " 2,\n",
       " 2,\n",
       " 2,\n",
       " 2,\n",
       " 2,\n",
       " 2,\n",
       " 2,\n",
       " 2,\n",
       " 2,\n",
       " 2,\n",
       " 2,\n",
       " 2,\n",
       " 2,\n",
       " 2,\n",
       " 2,\n",
       " 2,\n",
       " 13,\n",
       " 14,\n",
       " 2,\n",
       " 2,\n",
       " 2,\n",
       " 2,\n",
       " 2,\n",
       " 2,\n",
       " 2,\n",
       " 2,\n",
       " 2,\n",
       " 2,\n",
       " 13,\n",
       " 13]"
      ]
     },
     "execution_count": 32,
     "metadata": {},
     "output_type": "execute_result"
    }
   ],
   "source": [
    "dishwasher_profile = df_day[machine_active].tolist()\n",
    "dishwasher_profile"
   ]
  },
  {
   "cell_type": "markdown",
   "metadata": {},
   "source": [
    "### Save the profiles"
   ]
  },
  {
   "cell_type": "code",
   "execution_count": 40,
   "metadata": {},
   "outputs": [],
   "source": [
    "profiles = {\n",
    "    \"dryer\": dryer_profile,\n",
    "    \"washingmachine\": washing_machine_profile,\n",
    "    \"dishwasher\": dishwasher_profile,\n",
    "}\n",
    "with open(\"appliances_profiles.pickle\", \"wb\") as f:\n",
    "    pickle.dump(profiles, f)"
   ]
  }
 ],
 "metadata": {
  "kernelspec": {
   "display_name": "Python 3",
   "language": "python",
   "name": "python3"
  },
  "language_info": {
   "codemirror_mode": {
    "name": "ipython",
    "version": 3
   },
   "file_extension": ".py",
   "mimetype": "text/x-python",
   "name": "python",
   "nbconvert_exporter": "python",
   "pygments_lexer": "ipython3",
   "version": "3.8.5"
  }
 },
 "nbformat": 4,
 "nbformat_minor": 4
}
